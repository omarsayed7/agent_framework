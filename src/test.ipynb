{
 "cells": [
  {
   "cell_type": "code",
   "execution_count": 23,
   "metadata": {},
   "outputs": [
    {
     "data": {
      "text/plain": [
       "True"
      ]
     },
     "execution_count": 23,
     "metadata": {},
     "output_type": "execute_result"
    }
   ],
   "source": [
    "import os \n",
    "from dotenv import load_dotenv\n",
    "from connections.twitter import AsyncTwitterBot\n",
    "\n",
    "load_dotenv()"
   ]
  },
  {
   "cell_type": "code",
   "execution_count": 24,
   "metadata": {},
   "outputs": [
    {
     "name": "stdout",
     "output_type": "stream",
     "text": [
      "creds {'username': 'kiraaaaaaaaaaa0', 'email': 'logisticsdisco7@gmail.com', 'password': 'agent_123', 'session_cookie': None}\n"
     ]
    }
   ],
   "source": [
    "# Initialize bot with your credentials\n",
    "bot = AsyncTwitterBot(\n",
    "    username=os.environ.get(\"TWITTER_USERNAME\"),\n",
    "    email=os.environ.get(\"TWITTER_EMAIL\"),\n",
    "    password=os.environ.get(\"TWITTER_PASSWORD\"),\n",
    ")\n",
    "await bot.initialize()"
   ]
  },
  {
   "cell_type": "code",
   "execution_count": 25,
   "metadata": {},
   "outputs": [
    {
     "ename": "AccountSuspended",
     "evalue": "Authorization: Denied by access control: Missing TwitterUserNotSuspended",
     "output_type": "error",
     "traceback": [
      "\u001b[0;31m---------------------------------------------------------------------------\u001b[0m",
      "\u001b[0;31mAccountSuspended\u001b[0m                          Traceback (most recent call last)",
      "Cell \u001b[0;32mIn[25], line 1\u001b[0m\n\u001b[0;32m----> 1\u001b[0m \u001b[38;5;28;01mawait\u001b[39;00m bot\u001b[38;5;241m.\u001b[39mpost_tweet(text\u001b[38;5;241m=\u001b[39m\u001b[38;5;124m\"\u001b[39m\u001b[38;5;124mHow everything is going today!\u001b[39m\u001b[38;5;124m\"\u001b[39m)\n",
      "File \u001b[0;32m~/Personal/AI/lotionAI/dev/AI Agents/lotionAI_framework/src/connections/twitter/client.py:63\u001b[0m, in \u001b[0;36mAsyncTwitterBot.post_tweet\u001b[0;34m(self, text, media_path, media_type)\u001b[0m\n\u001b[1;32m     60\u001b[0m     media_id \u001b[38;5;241m=\u001b[39m \u001b[38;5;28;01mawait\u001b[39;00m \u001b[38;5;28mself\u001b[39m\u001b[38;5;241m.\u001b[39mclient\u001b[38;5;241m.\u001b[39mupload_media(media_path)\n\u001b[1;32m     61\u001b[0m     media_ids\u001b[38;5;241m.\u001b[39mappend(media_id)\n\u001b[0;32m---> 63\u001b[0m tweet \u001b[38;5;241m=\u001b[39m \u001b[38;5;28;01mawait\u001b[39;00m \u001b[38;5;28mself\u001b[39m\u001b[38;5;241m.\u001b[39mclient\u001b[38;5;241m.\u001b[39mcreate_tweet(text\u001b[38;5;241m=\u001b[39mtext, media_ids\u001b[38;5;241m=\u001b[39mmedia_ids)\n\u001b[1;32m     64\u001b[0m \u001b[38;5;28mprint\u001b[39m(tweet, \u001b[38;5;124m\"\u001b[39m\u001b[38;5;124mtweet\u001b[39m\u001b[38;5;124m\"\u001b[39m)\n\u001b[1;32m     65\u001b[0m \u001b[38;5;28;01mreturn\u001b[39;00m tweet\u001b[38;5;241m.\u001b[39mid\n",
      "File \u001b[0;32m~/Personal/AI/lotionAI/dev/AI Agents/lotionAI_framework/.venv/lib/python3.11/site-packages/twikit/client/client.py:1264\u001b[0m, in \u001b[0;36mClient.create_tweet\u001b[0;34m(self, text, media_ids, poll_uri, reply_to, conversation_control, attachment_url, community_id, share_with_followers, is_note_tweet, richtext_options, edit_tweet_id)\u001b[0m\n\u001b[1;32m   1257\u001b[0m     conversation_control \u001b[38;5;241m=\u001b[39m conversation_control\u001b[38;5;241m.\u001b[39mlower()\n\u001b[1;32m   1258\u001b[0m     limit_mode \u001b[38;5;241m=\u001b[39m {\n\u001b[1;32m   1259\u001b[0m         \u001b[38;5;124m'\u001b[39m\u001b[38;5;124mfollowers\u001b[39m\u001b[38;5;124m'\u001b[39m: \u001b[38;5;124m'\u001b[39m\u001b[38;5;124mCommunity\u001b[39m\u001b[38;5;124m'\u001b[39m,\n\u001b[1;32m   1260\u001b[0m         \u001b[38;5;124m'\u001b[39m\u001b[38;5;124mverified\u001b[39m\u001b[38;5;124m'\u001b[39m: \u001b[38;5;124m'\u001b[39m\u001b[38;5;124mVerified\u001b[39m\u001b[38;5;124m'\u001b[39m,\n\u001b[1;32m   1261\u001b[0m         \u001b[38;5;124m'\u001b[39m\u001b[38;5;124mmentioned\u001b[39m\u001b[38;5;124m'\u001b[39m: \u001b[38;5;124m'\u001b[39m\u001b[38;5;124mByInvitation\u001b[39m\u001b[38;5;124m'\u001b[39m\n\u001b[1;32m   1262\u001b[0m     }[conversation_control]\n\u001b[0;32m-> 1264\u001b[0m response, _ \u001b[38;5;241m=\u001b[39m \u001b[38;5;28;01mawait\u001b[39;00m \u001b[38;5;28mself\u001b[39m\u001b[38;5;241m.\u001b[39mgql\u001b[38;5;241m.\u001b[39mcreate_tweet(\n\u001b[1;32m   1265\u001b[0m     is_note_tweet, text, media_entities, poll_uri,\n\u001b[1;32m   1266\u001b[0m     reply_to, attachment_url, community_id, share_with_followers,\n\u001b[1;32m   1267\u001b[0m     richtext_options, edit_tweet_id, limit_mode\n\u001b[1;32m   1268\u001b[0m )\n\u001b[1;32m   1269\u001b[0m \u001b[38;5;28;01mif\u001b[39;00m \u001b[38;5;124m'\u001b[39m\u001b[38;5;124merrors\u001b[39m\u001b[38;5;124m'\u001b[39m \u001b[38;5;129;01min\u001b[39;00m response:\n\u001b[1;32m   1270\u001b[0m     raise_exceptions_from_response(response[\u001b[38;5;124m'\u001b[39m\u001b[38;5;124merrors\u001b[39m\u001b[38;5;124m'\u001b[39m])\n",
      "File \u001b[0;32m~/Personal/AI/lotionAI/dev/AI Agents/lotionAI_framework/.venv/lib/python3.11/site-packages/twikit/client/gql.py:224\u001b[0m, in \u001b[0;36mGQLClient.create_tweet\u001b[0;34m(self, is_note_tweet, text, media_entities, poll_uri, reply_to, attachment_url, community_id, share_with_followers, richtext_options, edit_tweet_id, limit_mode)\u001b[0m\n\u001b[1;32m    222\u001b[0m     endpoint \u001b[38;5;241m=\u001b[39m Endpoint\u001b[38;5;241m.\u001b[39mCREATE_TWEET\n\u001b[1;32m    223\u001b[0m     features \u001b[38;5;241m=\u001b[39m FEATURES\n\u001b[0;32m--> 224\u001b[0m \u001b[38;5;28;01mreturn\u001b[39;00m \u001b[38;5;28;01mawait\u001b[39;00m \u001b[38;5;28mself\u001b[39m\u001b[38;5;241m.\u001b[39mgql_post(endpoint, variables, features)\n",
      "File \u001b[0;32m~/Personal/AI/lotionAI/dev/AI Agents/lotionAI_framework/.venv/lib/python3.11/site-packages/twikit/client/gql.py:142\u001b[0m, in \u001b[0;36mGQLClient.gql_post\u001b[0;34m(self, url, variables, features, headers, extra_data, **kwargs)\u001b[0m\n\u001b[1;32m    140\u001b[0m \u001b[38;5;28;01mif\u001b[39;00m headers \u001b[38;5;129;01mis\u001b[39;00m \u001b[38;5;28;01mNone\u001b[39;00m:\n\u001b[1;32m    141\u001b[0m     headers \u001b[38;5;241m=\u001b[39m \u001b[38;5;28mself\u001b[39m\u001b[38;5;241m.\u001b[39mbase\u001b[38;5;241m.\u001b[39m_base_headers\n\u001b[0;32m--> 142\u001b[0m \u001b[38;5;28;01mreturn\u001b[39;00m \u001b[38;5;28;01mawait\u001b[39;00m \u001b[38;5;28mself\u001b[39m\u001b[38;5;241m.\u001b[39mbase\u001b[38;5;241m.\u001b[39mpost(url, json\u001b[38;5;241m=\u001b[39mdata, headers\u001b[38;5;241m=\u001b[39mheaders, \u001b[38;5;241m*\u001b[39m\u001b[38;5;241m*\u001b[39mkwargs)\n",
      "File \u001b[0;32m~/Personal/AI/lotionAI/dev/AI Agents/lotionAI_framework/.venv/lib/python3.11/site-packages/twikit/client/client.py:214\u001b[0m, in \u001b[0;36mClient.post\u001b[0;34m(self, url, **kwargs)\u001b[0m\n\u001b[1;32m    212\u001b[0m \u001b[38;5;28;01masync\u001b[39;00m \u001b[38;5;28;01mdef\u001b[39;00m\u001b[38;5;250m \u001b[39m\u001b[38;5;21mpost\u001b[39m(\u001b[38;5;28mself\u001b[39m, url, \u001b[38;5;241m*\u001b[39m\u001b[38;5;241m*\u001b[39mkwargs) \u001b[38;5;241m-\u001b[39m\u001b[38;5;241m>\u001b[39m \u001b[38;5;28mtuple\u001b[39m[\u001b[38;5;28mdict\u001b[39m \u001b[38;5;241m|\u001b[39m Any, Response]:\n\u001b[1;32m    213\u001b[0m     \u001b[38;5;124m'\u001b[39m\u001b[38;5;124m:meta private:\u001b[39m\u001b[38;5;124m'\u001b[39m\n\u001b[0;32m--> 214\u001b[0m     \u001b[38;5;28;01mreturn\u001b[39;00m \u001b[38;5;28;01mawait\u001b[39;00m \u001b[38;5;28mself\u001b[39m\u001b[38;5;241m.\u001b[39mrequest(\u001b[38;5;124m'\u001b[39m\u001b[38;5;124mPOST\u001b[39m\u001b[38;5;124m'\u001b[39m, url, \u001b[38;5;241m*\u001b[39m\u001b[38;5;241m*\u001b[39mkwargs)\n",
      "File \u001b[0;32m~/Personal/AI/lotionAI/dev/AI Agents/lotionAI_framework/.venv/lib/python3.11/site-packages/twikit/client/client.py:161\u001b[0m, in \u001b[0;36mClient.request\u001b[0;34m(self, method, url, auto_unlock, raise_exception, **kwargs)\u001b[0m\n\u001b[1;32m    158\u001b[0m error_message \u001b[38;5;241m=\u001b[39m response_data[\u001b[38;5;124m'\u001b[39m\u001b[38;5;124merrors\u001b[39m\u001b[38;5;124m'\u001b[39m][\u001b[38;5;241m0\u001b[39m]\u001b[38;5;241m.\u001b[39mget(\u001b[38;5;124m'\u001b[39m\u001b[38;5;124mmessage\u001b[39m\u001b[38;5;124m'\u001b[39m)\n\u001b[1;32m    159\u001b[0m \u001b[38;5;28;01mif\u001b[39;00m error_code \u001b[38;5;129;01min\u001b[39;00m (\u001b[38;5;241m37\u001b[39m, \u001b[38;5;241m64\u001b[39m):\n\u001b[1;32m    160\u001b[0m     \u001b[38;5;66;03m# Account suspended\u001b[39;00m\n\u001b[0;32m--> 161\u001b[0m     \u001b[38;5;28;01mraise\u001b[39;00m AccountSuspended(error_message)\n\u001b[1;32m    163\u001b[0m \u001b[38;5;28;01mif\u001b[39;00m error_code \u001b[38;5;241m==\u001b[39m \u001b[38;5;241m326\u001b[39m:\n\u001b[1;32m    164\u001b[0m     \u001b[38;5;66;03m# Account unlocking\u001b[39;00m\n\u001b[1;32m    165\u001b[0m     \u001b[38;5;28;01mif\u001b[39;00m \u001b[38;5;28mself\u001b[39m\u001b[38;5;241m.\u001b[39mcaptcha_solver \u001b[38;5;129;01mis\u001b[39;00m \u001b[38;5;28;01mNone\u001b[39;00m:\n",
      "\u001b[0;31mAccountSuspended\u001b[0m: Authorization: Denied by access control: Missing TwitterUserNotSuspended"
     ]
    }
   ],
   "source": [
    "await bot.post_tweet(text=\"How everything is going today!\")"
   ]
  },
  {
   "cell_type": "code",
   "execution_count": 21,
   "metadata": {},
   "outputs": [
    {
     "data": {
      "text/plain": [
       "'1883574720769241156'"
      ]
     },
     "execution_count": 21,
     "metadata": {},
     "output_type": "execute_result"
    }
   ],
   "source": [
    "await bot.reply_to_tweet(\"1883573181296079074\", \"reply_reply!\")"
   ]
  },
  {
   "cell_type": "code",
   "execution_count": 22,
   "metadata": {},
   "outputs": [
    {
     "ename": "Unauthorized",
     "evalue": "status: 401, message: \"{\"errors\":[{\"message\":\"Could not authenticate you\",\"code\":32}]}\n\"",
     "output_type": "error",
     "traceback": [
      "\u001b[0;31m---------------------------------------------------------------------------\u001b[0m",
      "\u001b[0;31mUnauthorized\u001b[0m                              Traceback (most recent call last)",
      "Cell \u001b[0;32mIn[22], line 1\u001b[0m\n\u001b[0;32m----> 1\u001b[0m \u001b[38;5;28;01mawait\u001b[39;00m bot\u001b[38;5;241m.\u001b[39mlike_tweet(\u001b[38;5;124m\"\u001b[39m\u001b[38;5;124m1883571840255500637\u001b[39m\u001b[38;5;124m\"\u001b[39m)\n",
      "File \u001b[0;32m~/Personal/AI/lotionAI/dev/AI Agents/lotionAI_framework/src/connections/twitter/client.py:82\u001b[0m, in \u001b[0;36mAsyncTwitterBot.like_tweet\u001b[0;34m(self, tweet_id)\u001b[0m\n\u001b[1;32m     80\u001b[0m \u001b[38;5;28;01masync\u001b[39;00m \u001b[38;5;28;01mdef\u001b[39;00m\u001b[38;5;250m \u001b[39m\u001b[38;5;21mlike_tweet\u001b[39m(\u001b[38;5;28mself\u001b[39m, tweet_id: \u001b[38;5;28mstr\u001b[39m) \u001b[38;5;241m-\u001b[39m\u001b[38;5;241m>\u001b[39m \u001b[38;5;28mbool\u001b[39m:\n\u001b[1;32m     81\u001b[0m \u001b[38;5;250m    \u001b[39m\u001b[38;5;124;03m\"\"\"Like a specific tweet\"\"\"\u001b[39;00m\n\u001b[0;32m---> 82\u001b[0m     tweet \u001b[38;5;241m=\u001b[39m \u001b[38;5;28;01mawait\u001b[39;00m \u001b[38;5;28mself\u001b[39m\u001b[38;5;241m.\u001b[39mclient\u001b[38;5;241m.\u001b[39mget_tweet_by_id(tweet_id)\n\u001b[1;32m     83\u001b[0m     \u001b[38;5;28;01mawait\u001b[39;00m tweet\u001b[38;5;241m.\u001b[39mfavorite()\n\u001b[1;32m     84\u001b[0m     \u001b[38;5;28;01mreturn\u001b[39;00m \u001b[38;5;28;01mTrue\u001b[39;00m\n",
      "File \u001b[0;32m~/Personal/AI/lotionAI/dev/AI Agents/lotionAI_framework/.venv/lib/python3.11/site-packages/twikit/client/client.py:1546\u001b[0m, in \u001b[0;36mClient.get_tweet_by_id\u001b[0;34m(self, tweet_id, cursor)\u001b[0m\n\u001b[1;32m   1523\u001b[0m \u001b[38;5;28;01masync\u001b[39;00m \u001b[38;5;28;01mdef\u001b[39;00m\u001b[38;5;250m \u001b[39m\u001b[38;5;21mget_tweet_by_id\u001b[39m(\n\u001b[1;32m   1524\u001b[0m     \u001b[38;5;28mself\u001b[39m, tweet_id: \u001b[38;5;28mstr\u001b[39m, cursor: \u001b[38;5;28mstr\u001b[39m \u001b[38;5;241m|\u001b[39m \u001b[38;5;28;01mNone\u001b[39;00m \u001b[38;5;241m=\u001b[39m \u001b[38;5;28;01mNone\u001b[39;00m\n\u001b[1;32m   1525\u001b[0m ) \u001b[38;5;241m-\u001b[39m\u001b[38;5;241m>\u001b[39m Tweet:\n\u001b[1;32m   1526\u001b[0m \u001b[38;5;250m    \u001b[39m\u001b[38;5;124;03m\"\"\"\u001b[39;00m\n\u001b[1;32m   1527\u001b[0m \u001b[38;5;124;03m    Fetches a tweet by tweet ID.\u001b[39;00m\n\u001b[1;32m   1528\u001b[0m \n\u001b[0;32m   (...)\u001b[0m\n\u001b[1;32m   1544\u001b[0m \u001b[38;5;124;03m    <Tweet id=\"...\">\u001b[39;00m\n\u001b[1;32m   1545\u001b[0m \u001b[38;5;124;03m    \"\"\"\u001b[39;00m\n\u001b[0;32m-> 1546\u001b[0m     response, _ \u001b[38;5;241m=\u001b[39m \u001b[38;5;28;01mawait\u001b[39;00m \u001b[38;5;28mself\u001b[39m\u001b[38;5;241m.\u001b[39mgql\u001b[38;5;241m.\u001b[39mtweet_detail(tweet_id, cursor)\n\u001b[1;32m   1548\u001b[0m     \u001b[38;5;28;01mif\u001b[39;00m \u001b[38;5;124m'\u001b[39m\u001b[38;5;124merrors\u001b[39m\u001b[38;5;124m'\u001b[39m \u001b[38;5;129;01min\u001b[39;00m response:\n\u001b[1;32m   1549\u001b[0m         \u001b[38;5;28;01mraise\u001b[39;00m TweetNotAvailable(response[\u001b[38;5;124m'\u001b[39m\u001b[38;5;124merrors\u001b[39m\u001b[38;5;124m'\u001b[39m][\u001b[38;5;241m0\u001b[39m][\u001b[38;5;124m'\u001b[39m\u001b[38;5;124mmessage\u001b[39m\u001b[38;5;124m'\u001b[39m])\n",
      "File \u001b[0;32m~/Personal/AI/lotionAI/dev/AI Agents/lotionAI_framework/.venv/lib/python3.11/site-packages/twikit/client/gql.py:278\u001b[0m, in \u001b[0;36mGQLClient.tweet_detail\u001b[0;34m(self, tweet_id, cursor)\u001b[0m\n\u001b[1;32m    274\u001b[0m     variables[\u001b[38;5;124m'\u001b[39m\u001b[38;5;124mcursor\u001b[39m\u001b[38;5;124m'\u001b[39m] \u001b[38;5;241m=\u001b[39m cursor\n\u001b[1;32m    275\u001b[0m params \u001b[38;5;241m=\u001b[39m {\n\u001b[1;32m    276\u001b[0m     \u001b[38;5;124m'\u001b[39m\u001b[38;5;124mfieldToggles\u001b[39m\u001b[38;5;124m'\u001b[39m: {\u001b[38;5;124m'\u001b[39m\u001b[38;5;124mwithAuxiliaryUserLabels\u001b[39m\u001b[38;5;124m'\u001b[39m: \u001b[38;5;28;01mFalse\u001b[39;00m}\n\u001b[1;32m    277\u001b[0m }\n\u001b[0;32m--> 278\u001b[0m \u001b[38;5;28;01mreturn\u001b[39;00m \u001b[38;5;28;01mawait\u001b[39;00m \u001b[38;5;28mself\u001b[39m\u001b[38;5;241m.\u001b[39mgql_get(Endpoint\u001b[38;5;241m.\u001b[39mTWEET_DETAIL, variables, FEATURES, extra_params\u001b[38;5;241m=\u001b[39mparams)\n",
      "File \u001b[0;32m~/Personal/AI/lotionAI/dev/AI Agents/lotionAI_framework/.venv/lib/python3.11/site-packages/twikit/client/gql.py:124\u001b[0m, in \u001b[0;36mGQLClient.gql_get\u001b[0;34m(self, url, variables, features, headers, extra_params, **kwargs)\u001b[0m\n\u001b[1;32m    122\u001b[0m \u001b[38;5;28;01mif\u001b[39;00m headers \u001b[38;5;129;01mis\u001b[39;00m \u001b[38;5;28;01mNone\u001b[39;00m:\n\u001b[1;32m    123\u001b[0m     headers \u001b[38;5;241m=\u001b[39m \u001b[38;5;28mself\u001b[39m\u001b[38;5;241m.\u001b[39mbase\u001b[38;5;241m.\u001b[39m_base_headers\n\u001b[0;32m--> 124\u001b[0m \u001b[38;5;28;01mreturn\u001b[39;00m \u001b[38;5;28;01mawait\u001b[39;00m \u001b[38;5;28mself\u001b[39m\u001b[38;5;241m.\u001b[39mbase\u001b[38;5;241m.\u001b[39mget(url, params\u001b[38;5;241m=\u001b[39mflatten_params(params), headers\u001b[38;5;241m=\u001b[39mheaders, \u001b[38;5;241m*\u001b[39m\u001b[38;5;241m*\u001b[39mkwargs)\n",
      "File \u001b[0;32m~/Personal/AI/lotionAI/dev/AI Agents/lotionAI_framework/.venv/lib/python3.11/site-packages/twikit/client/client.py:210\u001b[0m, in \u001b[0;36mClient.get\u001b[0;34m(self, url, **kwargs)\u001b[0m\n\u001b[1;32m    208\u001b[0m \u001b[38;5;28;01masync\u001b[39;00m \u001b[38;5;28;01mdef\u001b[39;00m\u001b[38;5;250m \u001b[39m\u001b[38;5;21mget\u001b[39m(\u001b[38;5;28mself\u001b[39m, url, \u001b[38;5;241m*\u001b[39m\u001b[38;5;241m*\u001b[39mkwargs) \u001b[38;5;241m-\u001b[39m\u001b[38;5;241m>\u001b[39m \u001b[38;5;28mtuple\u001b[39m[\u001b[38;5;28mdict\u001b[39m \u001b[38;5;241m|\u001b[39m Any, Response]:\n\u001b[1;32m    209\u001b[0m     \u001b[38;5;124m'\u001b[39m\u001b[38;5;124m:meta private:\u001b[39m\u001b[38;5;124m'\u001b[39m\n\u001b[0;32m--> 210\u001b[0m     \u001b[38;5;28;01mreturn\u001b[39;00m \u001b[38;5;28;01mawait\u001b[39;00m \u001b[38;5;28mself\u001b[39m\u001b[38;5;241m.\u001b[39mrequest(\u001b[38;5;124m'\u001b[39m\u001b[38;5;124mGET\u001b[39m\u001b[38;5;124m'\u001b[39m, url, \u001b[38;5;241m*\u001b[39m\u001b[38;5;241m*\u001b[39mkwargs)\n",
      "File \u001b[0;32m~/Personal/AI/lotionAI/dev/AI Agents/lotionAI_framework/.venv/lib/python3.11/site-packages/twikit/client/client.py:187\u001b[0m, in \u001b[0;36mClient.request\u001b[0;34m(self, method, url, auto_unlock, raise_exception, **kwargs)\u001b[0m\n\u001b[1;32m    185\u001b[0m     \u001b[38;5;28;01mraise\u001b[39;00m BadRequest(message, headers\u001b[38;5;241m=\u001b[39mresponse\u001b[38;5;241m.\u001b[39mheaders)\n\u001b[1;32m    186\u001b[0m \u001b[38;5;28;01melif\u001b[39;00m status_code \u001b[38;5;241m==\u001b[39m \u001b[38;5;241m401\u001b[39m:\n\u001b[0;32m--> 187\u001b[0m     \u001b[38;5;28;01mraise\u001b[39;00m Unauthorized(message, headers\u001b[38;5;241m=\u001b[39mresponse\u001b[38;5;241m.\u001b[39mheaders)\n\u001b[1;32m    188\u001b[0m \u001b[38;5;28;01melif\u001b[39;00m status_code \u001b[38;5;241m==\u001b[39m \u001b[38;5;241m403\u001b[39m:\n\u001b[1;32m    189\u001b[0m     \u001b[38;5;28;01mraise\u001b[39;00m Forbidden(message, headers\u001b[38;5;241m=\u001b[39mresponse\u001b[38;5;241m.\u001b[39mheaders)\n",
      "\u001b[0;31mUnauthorized\u001b[0m: status: 401, message: \"{\"errors\":[{\"message\":\"Could not authenticate you\",\"code\":32}]}\n\""
     ]
    }
   ],
   "source": [
    "await bot.like_tweet(\"1883571840255500637\")"
   ]
  },
  {
   "cell_type": "code",
   "execution_count": 14,
   "metadata": {},
   "outputs": [],
   "source": [
    "tweet = await bot.client.get_tweet_by_id(\"1883571840255500637\")"
   ]
  },
  {
   "cell_type": "code",
   "execution_count": 20,
   "metadata": {},
   "outputs": [
    {
     "data": {
      "text/plain": [
       "<Tweet id=\"1883573181296079074\">"
      ]
     },
     "execution_count": 20,
     "metadata": {},
     "output_type": "execute_result"
    }
   ],
   "source": [
    "tweet.replies[1]"
   ]
  },
  {
   "cell_type": "code",
   "execution_count": 35,
   "metadata": {},
   "outputs": [],
   "source": [
    "async def get_tweet_replies(client, tweet_id: str, limit: int = 20):\n",
    "    \"\"\"\n",
    "    Get replies to a specific tweet\n",
    "    Returns a list of dictionaries containing reply information\n",
    "    \"\"\"\n",
    "    try:\n",
    "        # Get the conversation ID from the original tweet\n",
    "        original_tweet = await client.get_tweet_by_id(tweet_id)\n",
    "        print(original_tweet)\n",
    "        conversation_id = original_tweet.replies\n",
    "        print(conversation_id)\n",
    "        # Search for replies using the conversation ID\n",
    "        query = f\"conversation_id:{conversation_id}\"\n",
    "        tweets = await client.search_tweet(query, 'Top')\n",
    "        \n",
    "        # Filter and format replies\n",
    "        replies = []\n",
    "        for tweet in tweets:\n",
    "            if tweet.reply_to == tweet_id:  # Ensure it's a direct reply\n",
    "                reply_data = {\n",
    "                    'id': tweet.id,\n",
    "                    'text': tweet.text,\n",
    "                    'author': tweet.user.screen_name,\n",
    "                    'created_at': tweet.created_at,\n",
    "                    'media': [media.url for media in tweet.media] if tweet.media else None\n",
    "                }\n",
    "                replies.append(reply_data)\n",
    "        \n",
    "        return replies\n",
    "    \n",
    "    except Exception as e:\n",
    "        print(f\"Error fetching replies: {str(e)}\")\n",
    "        return []"
   ]
  },
  {
   "cell_type": "code",
   "execution_count": 36,
   "metadata": {},
   "outputs": [
    {
     "name": "stdout",
     "output_type": "stream",
     "text": [
      "<Tweet id=\"1883245296916066386\">\n",
      "[]\n"
     ]
    },
    {
     "data": {
      "text/plain": [
       "[]"
      ]
     },
     "execution_count": 36,
     "metadata": {},
     "output_type": "execute_result"
    }
   ],
   "source": [
    "await get_tweet_replies(client = bot.client, tweet_id = \"1883245296916066386\")"
   ]
  },
  {
   "cell_type": "code",
   "execution_count": null,
   "metadata": {},
   "outputs": [],
   "source": []
  }
 ],
 "metadata": {
  "kernelspec": {
   "display_name": "base",
   "language": "python",
   "name": "python3"
  },
  "language_info": {
   "codemirror_mode": {
    "name": "ipython",
    "version": 3
   },
   "file_extension": ".py",
   "mimetype": "text/x-python",
   "name": "python",
   "nbconvert_exporter": "python",
   "pygments_lexer": "ipython3",
   "version": "3.11.11"
  }
 },
 "nbformat": 4,
 "nbformat_minor": 2
}
